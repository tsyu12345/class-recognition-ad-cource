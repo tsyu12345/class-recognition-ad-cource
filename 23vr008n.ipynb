{
 "cells": [
  {
   "cell_type": "markdown",
   "metadata": {},
   "source": [
    "# 第３回 認識技術特論 課題答案\n",
    "## 23vr008n 三宅研 高林秀\n",
    "\n"
   ]
  },
  {
   "cell_type": "markdown",
   "metadata": {
    "vscode": {
     "languageId": "plaintext"
    }
   },
   "source": [
    "# 課題内容\n",
    "\n",
    "- 犬と猫のデータセット演習用 Jupyter Notebook ファイル\n",
    "（TransferCNN.ipynb）をまねて学習済み VGG19、ResNet などのモデルのファ\n",
    "インチューニングをすることで犬と猫のデータセットを認識する code を作成\n",
    "してください。\n",
    "- 学習用データの水増しがありとなしを用いるとき学習した犬と\n",
    "猫の認識モデルにおいて、テスト用（val フォールダーの中の画像）データの\n",
    "認識結果を比較してください。\n",
    "\n",
    "1. Jupyter Notebook で作成し、それぞれのコードについて簡単な説明を加え\n",
    "てください\n",
    "2. 一部の画像と認識ラベルを表示してください。\n",
    "3. 考察や自分の考え方を簡単に纏めてください。"
   ]
  },
  {
   "cell_type": "markdown",
   "metadata": {},
   "source": [
    "# 解答コード"
   ]
  },
  {
   "cell_type": "markdown",
   "metadata": {},
   "source": [
    "## 学習データの水増し無しのパターン"
   ]
  },
  {
   "cell_type": "code",
   "execution_count": null,
   "metadata": {
    "vscode": {
     "languageId": "plaintext"
    }
   },
   "outputs": [],
   "source": []
  },
  {
   "cell_type": "markdown",
   "metadata": {},
   "source": [
    "## 学習データの水増しありのパターン"
   ]
  },
  {
   "cell_type": "code",
   "execution_count": null,
   "metadata": {
    "vscode": {
     "languageId": "plaintext"
    }
   },
   "outputs": [],
   "source": []
  },
  {
   "cell_type": "markdown",
   "metadata": {},
   "source": [
    "## 両パターンの比較と考察"
   ]
  },
  {
   "cell_type": "code",
   "execution_count": null,
   "metadata": {
    "vscode": {
     "languageId": "plaintext"
    }
   },
   "outputs": [],
   "source": []
  }
 ],
 "metadata": {
  "language_info": {
   "name": "python"
  }
 },
 "nbformat": 4,
 "nbformat_minor": 2
}
