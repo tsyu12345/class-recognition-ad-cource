{
 "cells": [
  {
   "cell_type": "markdown",
   "metadata": {},
   "source": [
    "# 第３回 認識技術特論 課題答案\n",
    "## 23vr008n 三宅研 高林秀\n",
    "\n"
   ]
  },
  {
   "cell_type": "markdown",
   "metadata": {
    "vscode": {
     "languageId": "plaintext"
    }
   },
   "source": [
    "# 課題内容\n",
    "\n",
    "- 犬と猫のデータセット演習用 Jupyter Notebook ファイル\n",
    "（TransferCNN.ipynb）をまねて学習済み VGG19、ResNet などのモデルのファ\n",
    "インチューニングをすることで犬と猫のデータセットを認識する code を作成\n",
    "してください。\n",
    "- 学習用データの水増しがありとなしを用いるとき学習した犬と\n",
    "猫の認識モデルにおいて、テスト用（val フォールダーの中の画像）データの\n",
    "認識結果を比較してください。\n",
    "\n",
    "1. Jupyter Notebook で作成し、それぞれのコードについて簡単な説明を加え\n",
    "てください\n",
    "2. 一部の画像と認識ラベルを表示してください。\n",
    "3. 考察や自分の考え方を簡単に纏めてください。"
   ]
  },
  {
   "cell_type": "markdown",
   "metadata": {},
   "source": [
    "# 解答コード"
   ]
  },
  {
   "cell_type": "code",
   "execution_count": 17,
   "metadata": {},
   "outputs": [],
   "source": [
    "# 共通モジュールのインポート\n",
    "\n",
    "from matplotlib import pyplot as plt\n",
    "import pandas as pd\n",
    "import numpy as np\n",
    "import torch\n",
    "import torchvision\n",
    "from torchvision import datasets, models, transforms, utils\n",
    "from torchvision.models import vgg19\n",
    "import torch.nn as nn\n",
    "from torch.utils.data import DataLoader, Dataset\n",
    "from torchvision import datasets, transforms\n",
    "import os\n",
    "from enum import Enum\n",
    "import copy"
   ]
  },
  {
   "cell_type": "code",
   "execution_count": 13,
   "metadata": {},
   "outputs": [],
   "source": [
    "# データセットの準備\n",
    "class DataKeys(Enum):\n",
    "    TRAIN = \"train\"\n",
    "    VALID = \"val\"\n",
    "\n",
    "DATA_DIR = \"./DogCat\"\n",
    "TRAIN_DIR = os.path.join(DATA_DIR, \"train\")\n",
    "VALID_DIR = os.path.join(DATA_DIR, \"val\")\n",
    "\n",
    "# 画像データの前処理\n",
    "data_transfroms = { \n",
    "    DataKeys.TRAIN: transforms.Compose([\n",
    "        transforms.Resize((224, 224)),\n",
    "        transforms.ToTensor() #テンソルへの変換\n",
    "    ]),\n",
    "    DataKeys.VALID: transforms.Compose([\n",
    "        transforms.Resize((224, 224)),\n",
    "        transforms.ToTensor()\n",
    "    ])\n",
    "}\n",
    "\n",
    "datasets = {\n",
    "    DataKeys.TRAIN: datasets.ImageFolder(TRAIN_DIR, transform=data_transfroms[DataKeys.TRAIN]),\n",
    "    DataKeys.VALID: datasets.ImageFolder(VALID_DIR, transform=data_transfroms[DataKeys.VALID])\n",
    "}\n",
    "\n",
    "dataloaders = {\n",
    "    DataKeys.TRAIN: DataLoader(datasets[DataKeys.TRAIN], batch_size=32, shuffle=True, num_workers=4),\n",
    "    DataKeys.VALID: DataLoader(datasets[DataKeys.VALID], batch_size=32, shuffle=False, num_workers=4)\n",
    "}\n",
    "\n"
   ]
  },
  {
   "cell_type": "code",
   "execution_count": 14,
   "metadata": {},
   "outputs": [
    {
     "name": "stdout",
     "output_type": "stream",
     "text": [
      "Dataset size: {<DataKeys.TRAIN: 'train'>: 2200, <DataKeys.VALID: 'val'>: 544}\n",
      "Train Class names: ['Cat', 'Dog']\n",
      "Validate Class names:['Cat', 'Dog']\n",
      "Learning Device: cuda:0\n"
     ]
    }
   ],
   "source": [
    "# データセットの確認\n",
    "\n",
    "dataset_sizes = {x: len(datasets[x]) for x in [DataKeys.TRAIN, DataKeys.VALID]}\n",
    "class_names = datasets[DataKeys.TRAIN].classes\n",
    "device = torch.device(\"cuda:0\" if torch.cuda.is_available() else \"cpu\")\n",
    "\n",
    "print(f\"Dataset size: {dataset_sizes}\")\n",
    "print(f\"Train Class names: {class_names}\")\n",
    "print(f\"Validate Class names:{datasets[DataKeys.VALID].classes}\")\n",
    "print(f\"Learning Device: {device}\")\n"
   ]
  },
  {
   "cell_type": "code",
   "execution_count": 18,
   "metadata": {},
   "outputs": [
    {
     "ename": "RuntimeError",
     "evalue": "Numpy is not available",
     "output_type": "error",
     "traceback": [
      "\u001b[1;31m---------------------------------------------------------------------------\u001b[0m",
      "\u001b[1;31mRuntimeError\u001b[0m                              Traceback (most recent call last)",
      "Cell \u001b[1;32mIn[18], line 17\u001b[0m\n\u001b[0;32m     14\u001b[0m     plt\u001b[38;5;241m.\u001b[39mshow()\n\u001b[0;32m     16\u001b[0m \u001b[38;5;66;03m# 訓練データ中任意の5枚を表示\u001b[39;00m\n\u001b[1;32m---> 17\u001b[0m \u001b[43mshow_random_images\u001b[49m\u001b[43m(\u001b[49m\u001b[43mdataloaders\u001b[49m\u001b[43m[\u001b[49m\u001b[43mDataKeys\u001b[49m\u001b[38;5;241;43m.\u001b[39;49m\u001b[43mTRAIN\u001b[49m\u001b[43m]\u001b[49m\u001b[43m)\u001b[49m\n\u001b[0;32m     18\u001b[0m plt\u001b[38;5;241m.\u001b[39mtitle(\u001b[38;5;124m\"\u001b[39m\u001b[38;5;124mTraining DataSets\u001b[39m\u001b[38;5;124m\"\u001b[39m)\n\u001b[0;32m     19\u001b[0m plt\u001b[38;5;241m.\u001b[39mshow()\n",
      "Cell \u001b[1;32mIn[18], line 13\u001b[0m, in \u001b[0;36mshow_random_images\u001b[1;34m(dataloader)\u001b[0m\n\u001b[0;32m     11\u001b[0m inputs, classes \u001b[38;5;241m=\u001b[39m \u001b[38;5;28mnext\u001b[39m(\u001b[38;5;28miter\u001b[39m(dataloader))\n\u001b[0;32m     12\u001b[0m out \u001b[38;5;241m=\u001b[39m utils\u001b[38;5;241m.\u001b[39mmake_grid(inputs[:\u001b[38;5;241m5\u001b[39m])\n\u001b[1;32m---> 13\u001b[0m \u001b[43mimshow\u001b[49m\u001b[43m(\u001b[49m\u001b[43mout\u001b[49m\u001b[43m,\u001b[49m\u001b[43m \u001b[49m\u001b[43mtitle\u001b[49m\u001b[38;5;241;43m=\u001b[39;49m\u001b[43m[\u001b[49m\u001b[43mclass_names\u001b[49m\u001b[43m[\u001b[49m\u001b[43mx\u001b[49m\u001b[43m]\u001b[49m\u001b[43m \u001b[49m\u001b[38;5;28;43;01mfor\u001b[39;49;00m\u001b[43m \u001b[49m\u001b[43mx\u001b[49m\u001b[43m \u001b[49m\u001b[38;5;129;43;01min\u001b[39;49;00m\u001b[43m \u001b[49m\u001b[43mclasses\u001b[49m\u001b[43m[\u001b[49m\u001b[43m:\u001b[49m\u001b[38;5;241;43m5\u001b[39;49m\u001b[43m]\u001b[49m\u001b[43m]\u001b[49m\u001b[43m)\u001b[49m\n\u001b[0;32m     14\u001b[0m plt\u001b[38;5;241m.\u001b[39mshow()\n",
      "Cell \u001b[1;32mIn[18], line 3\u001b[0m, in \u001b[0;36mimshow\u001b[1;34m(inp, title)\u001b[0m\n\u001b[0;32m      2\u001b[0m \u001b[38;5;28;01mdef\u001b[39;00m \u001b[38;5;21mimshow\u001b[39m(inp, title\u001b[38;5;241m=\u001b[39m\u001b[38;5;28;01mNone\u001b[39;00m):\n\u001b[1;32m----> 3\u001b[0m     inp \u001b[38;5;241m=\u001b[39m \u001b[43minp\u001b[49m\u001b[38;5;241;43m.\u001b[39;49m\u001b[43mcpu\u001b[49m\u001b[43m(\u001b[49m\u001b[43m)\u001b[49m\u001b[38;5;241;43m.\u001b[39;49m\u001b[43mnumpy\u001b[49m\u001b[43m(\u001b[49m\u001b[43m)\u001b[49m\u001b[38;5;241m.\u001b[39mtranspose((\u001b[38;5;241m1\u001b[39m, \u001b[38;5;241m2\u001b[39m, \u001b[38;5;241m0\u001b[39m))  \u001b[38;5;66;03m# CPUテンソルに変換してからNumpy配列に変換\u001b[39;00m\n\u001b[0;32m      4\u001b[0m     plt\u001b[38;5;241m.\u001b[39mimshow(inp)\n\u001b[0;32m      5\u001b[0m     \u001b[38;5;28;01mif\u001b[39;00m title \u001b[38;5;129;01mis\u001b[39;00m \u001b[38;5;129;01mnot\u001b[39;00m \u001b[38;5;28;01mNone\u001b[39;00m:\n",
      "\u001b[1;31mRuntimeError\u001b[0m: Numpy is not available"
     ]
    }
   ],
   "source": [
    "# ランダムに5枚の画像を表示する関数\n",
    "def imshow(inp, title=None):\n",
    "    inp = inp.cpu().numpy().transpose((1, 2, 0))  # CPUテンソルに変換してからNumpy配列に変換\n",
    "    plt.imshow(inp)\n",
    "    if title is not None:\n",
    "        plt.title(title)\n",
    "    plt.pause(0.001)  # プロットが更新されるのを一時停止\n",
    "\n",
    "# ランダムに5枚の画像を表示\n",
    "def show_random_images(dataloader):\n",
    "    inputs, classes = next(iter(dataloader))\n",
    "    out = utils.make_grid(inputs[:5])\n",
    "    imshow(out, title=[class_names[x] for x in classes[:5]])\n",
    "    plt.show()\n",
    "\n",
    "# 訓練データ中任意の5枚を表示\n",
    "show_random_images(dataloaders[DataKeys.TRAIN])\n",
    "plt.title(\"Training DataSets\")\n",
    "plt.show()\n"
   ]
  },
  {
   "cell_type": "code",
   "execution_count": null,
   "metadata": {},
   "outputs": [],
   "source": [
    "# 検証データ中任意の5枚を表示\n",
    "inputs, classes = next(iter(dataloaders[DataKeys.VALID]))\n",
    "out = torchvision.utils.make_grid(inputs[:5])\n",
    "imshow(out, title=[class_names[x] for x in classes[:5]])\n",
    "plt.title(\"Validation DataSets\")\n",
    "plt.show()"
   ]
  },
  {
   "cell_type": "code",
   "execution_count": null,
   "metadata": {},
   "outputs": [],
   "source": [
    "# モデルのトレーニング関数\n",
    "def train_model(model, criterion, optimizer, scheduler, num_epochs=25):\n",
    "    best_model_wts = copy.deepcopy(model.state_dict())\n",
    "    best_acc = 0.0\n",
    "\n",
    "    for epoch in range(num_epochs):\n",
    "        print(f'Epoch {epoch}/{num_epochs - 1}')\n",
    "        print('-' * 10)\n",
    "\n",
    "        for phase in ['train', 'val']:\n",
    "            if phase == 'train':\n",
    "                model.train()  # モデルをトレーニングモードに設定\n",
    "            else:\n",
    "                model.eval()   # モデルを評価モードに設定\n",
    "\n",
    "            running_loss = 0.0\n",
    "            running_corrects = 0\n",
    "\n",
    "            for inputs, labels in dataloaders[phase]:\n",
    "                inputs = inputs.to(device)\n",
    "                labels = labels.to(device)\n",
    "\n",
    "                optimizer.zero_grad()\n",
    "\n",
    "                with torch.set_grad_enabled(phase == 'train'):\n",
    "                    outputs = model(inputs)\n",
    "                    _, preds = torch.max(outputs, 1)\n",
    "                    loss = criterion(outputs, labels)\n",
    "\n",
    "                    if phase == 'train':\n",
    "                        loss.backward()\n",
    "                        optimizer.step()\n",
    "\n",
    "                running_loss += loss.item() * inputs.size(0)\n",
    "                running_corrects += torch.sum(preds == labels.data)\n",
    "\n",
    "            if phase == 'train':\n",
    "                scheduler.step()\n",
    "\n",
    "            epoch_loss = running_loss / dataset_sizes[phase]\n",
    "            epoch_acc = running_corrects.double() / dataset_sizes[phase]\n",
    "\n",
    "            print(f'{phase} Loss: {epoch_loss:.4f} Acc: {epoch_acc:.4f}')\n",
    "\n",
    "            if phase == 'val' and epoch_acc > best_acc:\n",
    "                best_acc = epoch_acc\n",
    "                best_model_wts = copy.deepcopy(model.state_dict())\n",
    "\n",
    "        print()\n",
    "\n",
    "    print(f'Best val Acc: {best_acc:4f}')\n",
    "\n",
    "    model.load_state_dict(best_model_wts)\n",
    "    return model"
   ]
  },
  {
   "cell_type": "code",
   "execution_count": null,
   "metadata": {},
   "outputs": [],
   "source": [
    "# テスト用関数\n",
    "def test_model(model, criterion, dataloader):\n",
    "    model.eval()  # モデルを評価モードに設定\n",
    "\n",
    "    running_loss = 0.0\n",
    "    running_corrects = 0\n",
    "\n",
    "    for inputs, labels in dataloader:\n",
    "        inputs = inputs.to(device)\n",
    "        labels = labels.to(device)\n",
    "\n",
    "        with torch.set_grad_enabled(False):\n",
    "            outputs = model(inputs)\n",
    "            _, preds = torch.max(outputs, 1)\n",
    "            loss = criterion(outputs, labels)\n",
    "\n",
    "        running_loss += loss.item() * inputs.size(0)\n",
    "        running_corrects += torch.sum(preds == labels.data)\n",
    "\n",
    "    loss = running_loss / dataset_sizes['val']\n",
    "    acc = running_corrects.double() / dataset_sizes['val']\n",
    "\n",
    "    print(f'Test Loss: {loss:.4f} Acc: {acc:.4f}')"
   ]
  },
  {
   "cell_type": "markdown",
   "metadata": {},
   "source": [
    "## 学習データの水増し無しのパターン"
   ]
  },
  {
   "cell_type": "code",
   "execution_count": null,
   "metadata": {},
   "outputs": [],
   "source": [
    "model = vgg19(pretrained=True)\n",
    "num_ftrs = model.classifier[6].in_features\n",
    "model.classifier[6] = nn.Linear(num_ftrs, 2) # 2値分類に変更\n",
    "\n",
    "model = model.to(device)\n",
    "\n",
    "criterion = nn.CrossEntropyLoss()\n",
    "optimizer_ft = torch.optim.SGD(model.parameters(), lr=0.001, momentum=0.9)\n",
    "exp_lr_scheduler = torch.optim.lr_scheduler.StepLR(optimizer_ft, step_size=7, gamma=0.1)"
   ]
  },
  {
   "cell_type": "markdown",
   "metadata": {},
   "source": [
    "## 学習データの水増しありのパターン"
   ]
  },
  {
   "cell_type": "code",
   "execution_count": null,
   "metadata": {},
   "outputs": [],
   "source": []
  },
  {
   "cell_type": "markdown",
   "metadata": {},
   "source": [
    "## 両パターンの比較と考察"
   ]
  },
  {
   "cell_type": "code",
   "execution_count": null,
   "metadata": {},
   "outputs": [],
   "source": []
  }
 ],
 "metadata": {
  "kernelspec": {
   "display_name": ".venv",
   "language": "python",
   "name": "python3"
  },
  "language_info": {
   "codemirror_mode": {
    "name": "ipython",
    "version": 3
   },
   "file_extension": ".py",
   "mimetype": "text/x-python",
   "name": "python",
   "nbconvert_exporter": "python",
   "pygments_lexer": "ipython3",
   "version": "3.12.0"
  }
 },
 "nbformat": 4,
 "nbformat_minor": 2
}
